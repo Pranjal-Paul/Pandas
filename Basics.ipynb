{
 "cells": [
  {
   "cell_type": "markdown",
   "metadata": {},
   "source": [
    "# Everything (Basics)"
   ]
  },
  {
   "cell_type": "markdown",
   "metadata": {},
   "source": [
    "* Libraries"
   ]
  },
  {
   "cell_type": "code",
   "execution_count": null,
   "metadata": {},
   "outputs": [],
   "source": [
    "# import pandas as pd\n",
    "# import numpy as np\n",
    "# import seaborn as sns\n",
    "# import functools\n",
    "# import matplotlib.pyplot as plt"
   ]
  },
  {
   "cell_type": "markdown",
   "metadata": {},
   "source": [
    "* Read CSV as dataframe & Writing as CSV"
   ]
  },
  {
   "cell_type": "code",
   "execution_count": null,
   "metadata": {},
   "outputs": [],
   "source": [
    "# df = pd.read_csv(\"D:/Code_folder/dataset.csv\")   Read CSV from a directory\n",
    "# df = pd.read_csv(\"./dataset.csv\")                Read CSV if coding is done in same directory\n",
    "# df = df.to_csv(\"new.csv\")                        Writing as CSV"
   ]
  },
  {
   "cell_type": "markdown",
   "metadata": {},
   "source": [
    "* Get Idea of columns and its datatypes"
   ]
  },
  {
   "cell_type": "code",
   "execution_count": 2,
   "metadata": {},
   "outputs": [],
   "source": [
    "# df.head()\n",
    "# df.info()\n",
    "# df.describe()\n",
    "# df.dtypes"
   ]
  },
  {
   "cell_type": "markdown",
   "metadata": {},
   "source": [
    "* Convert datatype"
   ]
  },
  {
   "cell_type": "code",
   "execution_count": 6,
   "metadata": {},
   "outputs": [],
   "source": [
    "# df['WGHT1'] = df['WGHT1'].astype(dtype=np.int64)  BUT This doen't work for string to numeric conversion\n",
    "# df = df.convert_objects(convert_numeric=True)"
   ]
  },
  {
   "cell_type": "markdown",
   "metadata": {},
   "source": [
    "* Slicing Rows & Columns"
   ]
  },
  {
   "cell_type": "code",
   "execution_count": null,
   "metadata": {},
   "outputs": [],
   "source": [
    "# df = df.ix[ :4, :]                          Slicing only rows(till index 4)\n",
    "# df = df.ix[ :4, 1:4]                        Slicing rows and columns(rows=4, col 1-4, excluding 4)\n",
    "# df = df.loc[:, ['deidnum', 'visit', 'meanwt']]   Selection of particular columns\n",
    "\n",
    "# df = df.iloc[:2]                            select first 2 rows\n",
    "# df = df.loc[:, ['A','C']]                   select all rows for selective columns\n",
    "# t = tgrams.loc[:,\"tgrams\"]                  \n",
    "# df = df.loc[['a','b','f','h'],['A','C']]    select few rows for multiple columns\n",
    "# df = df.loc[df.visit == \"Month 1\"]          select all rows for a particular column\n",
    "# df = df.loc[df['deidnum'] == 903]"
   ]
  },
  {
   "cell_type": "markdown",
   "metadata": {},
   "source": [
    "* Dropping Columns"
   ]
  },
  {
   "cell_type": "code",
   "execution_count": null,
   "metadata": {},
   "outputs": [],
   "source": [
    "# df = df.drop(df.columns[3:8],axis=1)                      dropping columns from index 3 to 7 (with 8 exclusive)\n",
    "# df = df.drop(df.iloc[:, 53:], inplace = True, axis = 1)   dropping columns from index 0 to 52 (with 53 exclusive)\n",
    "# df = df.drop([\"pagenum\", \"visit\", \"nndsdays\"], inplace = True, axis = 1)\n",
    "# df = df.drop(['pagenum', 'subvisit', 'wtdt'], axis = 'columns', inplace = True)"
   ]
  },
  {
   "cell_type": "markdown",
   "metadata": {},
   "source": [
    "* Dropping Rows with Null values"
   ]
  },
  {
   "cell_type": "code",
   "execution_count": null,
   "metadata": {},
   "outputs": [],
   "source": [
    "# df = df.dropna(how = 'all', axis=0, inplace = True)   Dropping rows having every value = Null of any type \n",
    "# df = df.dropna(thresh = 5)                            Dropping rows having less than 5 values"
   ]
  },
  {
   "cell_type": "markdown",
   "metadata": {},
   "source": [
    "* Make a list having all the columns as list elements"
   ]
  },
  {
   "cell_type": "code",
   "execution_count": null,
   "metadata": {},
   "outputs": [],
   "source": [
    "# df = df.columns.values.tolist()"
   ]
  },
  {
   "cell_type": "markdown",
   "metadata": {},
   "source": [
    "* Turn column converted to list here"
   ]
  },
  {
   "cell_type": "code",
   "execution_count": 4,
   "metadata": {},
   "outputs": [],
   "source": [
    "# age_list = df[\"age\"].tolist()"
   ]
  },
  {
   "cell_type": "markdown",
   "metadata": {},
   "source": [
    "* Pivot Table"
   ]
  },
  {
   "cell_type": "code",
   "execution_count": null,
   "metadata": {},
   "outputs": [],
   "source": [
    "# data = pd.pivot_table(df, values=['tgrams'], index=['deidnum'], columns=['visit'], aggfunc=np.sum)         "
   ]
  },
  {
   "cell_type": "markdown",
   "metadata": {},
   "source": [
    "* Resetting Index"
   ]
  },
  {
   "cell_type": "code",
   "execution_count": null,
   "metadata": {},
   "outputs": [],
   "source": [
    "# df.set_index(\"deidnum\", inplace=True)\n",
    "\n",
    "# columnsTitles = [\"BL Sub 1\", \"BL Sub 2\", \"Month 1\", \"Month 3\", \"Month 6\", \"Month 9\", \"Month 18\", \"Month 24\"]\n",
    "# df = df.reindex(columns=columnsTitles)"
   ]
  },
  {
   "cell_type": "markdown",
   "metadata": {},
   "source": [
    "* Re-ordering Columns"
   ]
  },
  {
   "cell_type": "code",
   "execution_count": null,
   "metadata": {},
   "outputs": [],
   "source": [
    "# df = df.reorder_levels(['BL Sub 1', 'BL Sub 2', 'Month 1', 'Month 3', 'Month 6', 'Month 9', 'Month 18', 'Month 24'] , axis=1)\n",
    "# df"
   ]
  },
  {
   "cell_type": "markdown",
   "metadata": {},
   "source": [
    "* Dropping Dupicate entries in a particular column"
   ]
  },
  {
   "cell_type": "code",
   "execution_count": null,
   "metadata": {},
   "outputs": [],
   "source": [
    "# df = df.drop_duplicates(subset =\"meanwt\", keep = False, inplace = True) \n",
    "# df = df[df.duplicated(['meanwt'], keep=False)]"
   ]
  },
  {
   "cell_type": "markdown",
   "metadata": {},
   "source": [
    "* Merging 2 dataframes"
   ]
  },
  {
   "cell_type": "code",
   "execution_count": 5,
   "metadata": {},
   "outputs": [],
   "source": [
    "# baseline_merge_month24 = baseline.merge(month_24, on=['deidnum'], suffixes=('_baseline','_month24'))\n",
    "# baseline[baseline.deidnum.isin(month_24.deidnum.values)]"
   ]
  },
  {
   "cell_type": "markdown",
   "metadata": {},
   "source": [
    "* Merging Multiple Dataframes"
   ]
  },
  {
   "cell_type": "code",
   "execution_count": null,
   "metadata": {},
   "outputs": [],
   "source": [
    "# data_frames = [baseline, month_6, month_12, month_18, month_24]    \"Each element represents one dataframe\"\n",
    "# df_merged = functools.reduce(lambda  left, right: pd.merge(left, right, on=['deidnum'], how='outer'), data_frames)"
   ]
  },
  {
   "cell_type": "markdown",
   "metadata": {},
   "source": [
    "* Generating a scatter plot"
   ]
  },
  {
   "cell_type": "code",
   "execution_count": null,
   "metadata": {},
   "outputs": [],
   "source": [
    "# plt.scatter(df['Glucose'], df['DiabetesPedigreeFunction'], color='red')\n",
    "# plt.title('Glucose Vs Diabetes Pedigree Function', fontsize=14)\n",
    "# plt.xlabel('Glucose', fontsize=14)\n",
    "# plt.ylabel('Diabetes Pedigree Function', fontsize=14)\n",
    "# plt.grid(True)\n",
    "# plt.show()"
   ]
  },
  {
   "cell_type": "markdown",
   "metadata": {},
   "source": [
    "* Generating a Heat-map"
   ]
  },
  {
   "cell_type": "code",
   "execution_count": null,
   "metadata": {},
   "outputs": [],
   "source": [
    "# corr = df.corr()\n",
    "# corr\n",
    "# sns.heatmap(corr, \n",
    "#          xticklabels=corr.columns, \n",
    "#          yticklabels=corr.columns)"
   ]
  }
 ],
 "metadata": {
  "kernelspec": {
   "display_name": "Python 3",
   "language": "python",
   "name": "python3"
  },
  "language_info": {
   "codemirror_mode": {
    "name": "ipython",
    "version": 3
   },
   "file_extension": ".py",
   "mimetype": "text/x-python",
   "name": "python",
   "nbconvert_exporter": "python",
   "pygments_lexer": "ipython3",
   "version": "3.6.5"
  }
 },
 "nbformat": 4,
 "nbformat_minor": 2
}
